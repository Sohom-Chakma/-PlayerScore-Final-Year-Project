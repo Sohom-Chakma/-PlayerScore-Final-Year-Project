{
  "cells": [
    {
      "cell_type": "markdown",
      "metadata": {
        "id": "s3xnj3LKqFNs"
      },
      "source": [
        "# Scraping Data"
      ]
    },
    {
      "cell_type": "markdown",
      "metadata": {
        "id": "jL2lFmLRe32x"
      },
      "source": [
        "## Scraping outfield Players (Attackers, Midfielders, Defenders)"
      ]
    },
    {
      "cell_type": "code",
      "source": [
        "import streamlit as st\n",
        "import matplotlib.pyplot as plt"
      ],
      "metadata": {
        "colab": {
          "base_uri": "https://localhost:8080/",
          "height": 493
        },
        "collapsed": true,
        "id": "GNK71dP41cN_",
        "outputId": "95af9911-3f06-4ad2-a89b-4026828f90d6"
      },
      "execution_count": null,
      "outputs": [
        {
          "output_type": "stream",
          "name": "stderr",
          "text": [
            "2024-05-15 15:20:06.736 \n",
            "  \u001b[33m\u001b[1mWarning:\u001b[0m to view this Streamlit app on a browser, run it with the following\n",
            "  command:\n",
            "\n",
            "    streamlit run /usr/local/lib/python3.10/dist-packages/colab_kernel_launcher.py [ARGUMENTS]\n"
          ]
        },
        {
          "output_type": "display_data",
          "data": {
            "text/plain": [
              "<Figure size 640x480 with 1 Axes>"
            ],
            "image/png": "[encoded data removed]"
          },
          "metadata": {}
        }
      ]
    },
    {
      "cell_type": "code",
      "execution_count": null,
      "metadata": {
        "id": "D2EdR-w0UmtO"
      },
      "outputs": [],
      "source": [
        "# assigning variable for main page url\n",
        "url = \"https://fbref.com/en/comps/8/Champions-League-Stats\""
      ]
    },
    {
      "cell_type": "code",
      "execution_count": null,
      "metadata": {
        "id": "nQ2d75HPUoeX"
      },
      "outputs": [],
      "source": [
        "#list of years we want to scrape\n",
        "years = list(range(2024, 2017, -1))"
      ]
    },
    {
      "cell_type": "code",
      "execution_count": null,
      "metadata": {
        "colab": {
          "base_uri": "https://localhost:8080/"
        },
        "id": "hymt7RxyvN9Q",
        "outputId": "1239a2cf-b321-46f2-a4f7-f7622c456977"
      },
      "outputs": [
        {
          "output_type": "execute_result",
          "data": {
            "text/plain": [
              "[2024, 2023, 2022, 2021, 2020, 2019, 2018]"
            ]
          },
          "metadata": {},
          "execution_count": 26
        }
      ],
      "source": [
        "years"
      ]
    },
    {
      "cell_type": "code",
      "execution_count": null,
      "metadata": {
        "id": "tD7gbRMFU5Go"
      },
      "outputs": [],
      "source": [
        "from bs4 import BeautifulSoup\n",
        "import requests\n",
        "\n",
        "# Pulling desired links using BeautifulSoup\n",
        "\n",
        "data = requests.get(url)\n",
        "soup = BeautifulSoup(data.text)\n",
        "\n",
        "cat_section = soup.select(\"div.section_content\")\n",
        "links = [l.get(\"href\") for l in cat_section[0].find_all('a')]\n",
        "links = [l for l in links if '/players/' in l and '/keepers' not in l and '/stats/' not in l and '/playingtime/' not in l and  '/passing_types/' not in l]\n",
        "cat_urls = [f\"https://fbref.com{l}\" for l in links]"
      ]
    },
    {
      "cell_type": "code",
      "source": [
        "cat_urls"
      ],
      "metadata": {
        "colab": {
          "base_uri": "https://localhost:8080/"
        },
        "id": "USAr8XGQK_sS",
        "outputId": "55e315ed-b6d6-4aa1-be01-eb8ba2da4ab0"
      },
      "execution_count": null,
      "outputs": [
        {
          "output_type": "execute_result",
          "data": {
            "text/plain": [
              "[]"
            ]
          },
          "metadata": {},
          "execution_count": 28
        }
      ]
    },
    {
      "cell_type": "code",
      "execution_count": null,
      "metadata": {
        "colab": {
          "base_uri": "https://localhost:8080/",
          "height": 35
        },
        "id": "pg2nZp-dBZk0",
        "outputId": "acb1050d-339e-4b77-950e-7123a62d994a"
      },
      "outputs": [
        {
          "output_type": "execute_result",
          "data": {
            "text/plain": [
              "'/en/comps/8/2022-2023/2022-2023-Champions-League-Stats'"
            ],
            "application/vnd.google.colaboratory.intrinsic+json": {
              "type": "string"
            }
          },
          "metadata": {},
          "execution_count": 14
        }
      ],
      "source": [
        "soup.select(\"a.prev\")[0].get(\"href\")"
      ]
    },
    {
      "cell_type": "code",
      "execution_count": null,
      "metadata": {
        "colab": {
          "base_uri": "https://localhost:8080/",
          "height": 211
        },
        "id": "Uc95qPuqameV",
        "outputId": "ee65d8e0-50c3-4edf-a273-9985737b3c6e"
      },
      "outputs": [
        {
          "output_type": "error",
          "ename": "TypeError",
          "evalue": "reduce() of empty iterable with no initial value",
          "traceback": [
            "\u001b[0;31m---------------------------------------------------------------------------\u001b[0m",
            "\u001b[0;31mTypeError\u001b[0m                                 Traceback (most recent call last)",
            "\u001b[0;32m<ipython-input-15-9fe513355ea1>\u001b[0m in \u001b[0;36m<cell line: 12>\u001b[0;34m()\u001b[0m\n\u001b[1;32m     54\u001b[0m \u001b[0;34m\u001b[0m\u001b[0m\n\u001b[1;32m     55\u001b[0m   \u001b[0;31m# merging all dataframes in table and appending it into a new table, seasonal.\u001b[0m\u001b[0;34m\u001b[0m\u001b[0;34m\u001b[0m\u001b[0m\n\u001b[0;32m---> 56\u001b[0;31m   seasonal.append(reduce(lambda left, right:\n\u001b[0m\u001b[1;32m     57\u001b[0m               \u001b[0mpd\u001b[0m\u001b[0;34m.\u001b[0m\u001b[0mmerge\u001b[0m\u001b[0;34m(\u001b[0m\u001b[0mleft\u001b[0m\u001b[0;34m,\u001b[0m \u001b[0mright\u001b[0m\u001b[0;34m,\u001b[0m \u001b[0mon\u001b[0m \u001b[0;34m=\u001b[0m \u001b[0;34m[\u001b[0m\u001b[0;34m'90s'\u001b[0m\u001b[0;34m,\u001b[0m \u001b[0;34m'Pos'\u001b[0m\u001b[0;34m,\u001b[0m \u001b[0;34m'Squad'\u001b[0m\u001b[0;34m,\u001b[0m \u001b[0;34m'Player'\u001b[0m\u001b[0;34m,\u001b[0m \u001b[0;34m'Nation'\u001b[0m\u001b[0;34m,\u001b[0m \u001b[0;34m'Comp'\u001b[0m\u001b[0;34m]\u001b[0m\u001b[0;34m)\u001b[0m\u001b[0;34m,\u001b[0m\u001b[0;34m\u001b[0m\u001b[0;34m\u001b[0m\u001b[0m\n\u001b[1;32m     58\u001b[0m               tables))\n",
            "\u001b[0;31mTypeError\u001b[0m: reduce() of empty iterable with no initial value"
          ]
        }
      ],
      "source": [
        "import pandas as pd\n",
        "import time\n",
        "from functools import reduce\n",
        "from bs4 import BeautifulSoup\n",
        "import requests\n",
        "# tables will contain stats for each category in a season\n",
        "tables = []\n",
        "\n",
        "# will contains merged tables for each season\n",
        "seasonal = []\n",
        "\n",
        "for year in years:\n",
        "\n",
        "  # Pulling desired links using BeautifulSoup\n",
        "\n",
        "  data = requests.get(url)\n",
        "  soup = BeautifulSoup(data.text)\n",
        "\n",
        "  cat_section = soup.select(\"div.section_content\")\n",
        "  links = [l.get(\"href\") for l in cat_section[0].find_all('a')]\n",
        "  links = [l for l in links if '/players/' in l and '/keepers' not in l and '/stats/' not in l and '/playingtime/' not in l and  '/passing_types/' not in l]\n",
        "  cat_urls = [f\"https://fbref.com{l}\" for l in links]\n",
        "\n",
        "  for i in cat_urls:\n",
        "    stat = pd.read_html(i)[0]\n",
        "    tables.append(stat)\n",
        "    time.sleep(1)\n",
        "\n",
        "  for t in tables:\n",
        "    # creating a data with the same headers but without multi indexing\n",
        "    t.columns = [' '.join(col).strip() for col in t.columns]\n",
        "    t = t.reset_index(drop=True)\n",
        "\n",
        "  for t in tables:\n",
        "    # creating a list with new names\n",
        "    new_columns = []\n",
        "    for col in t.columns:\n",
        "      if 'level_0' in col:\n",
        "        new_col = col.split()[-1]  # takes the last name\n",
        "      else:\n",
        "        new_col = col\n",
        "      new_columns.append(new_col)\n",
        "\n",
        "    # rename columns\n",
        "    t.columns = new_columns\n",
        "\n",
        "  for i in tables:\n",
        "    i['Age'] = i['Age'].str[:2]\n",
        "    i['Nation'] = i['Nation'].str.split(' ').str.get(1)\n",
        "    i['Comp'] = i['Comp'].str.split(' ').str[1:].str.join(' ')\n",
        "    i.drop(['Rk', 'Matches', 'Age', 'Born'], axis = 1, inplace = True)\n",
        "    i.drop_duplicates(keep=False, inplace = True)\n",
        "    i = i.fillna(0, inplace=True)\n",
        "\n",
        "  # merging all dataframes in table and appending it into a new table, seasonal.\n",
        "  seasonal.append(reduce(lambda left, right:\n",
        "              pd.merge(left, right, on = ['90s', 'Pos', 'Squad', 'Player', 'Nation', 'Comp']),\n",
        "              tables))\n",
        "  #resetting for next batch of tables\n",
        "  tables = []\n",
        "\n",
        "  #getting url for previous season\n",
        "  previous_season = soup.select(\"a.prev\")[0].get(\"href\")\n",
        "  url = f\"https://fbref.com{previous_season}\""
      ]
    },
    {
      "cell_type": "code",
      "execution_count": null,
      "metadata": {
        "id": "TUdIkmTougqk"
      },
      "outputs": [],
      "source": [
        "  x = list(range(0,7,+1))\n",
        "\n",
        "  for i in x:\n",
        "    try:\n",
        "      seasonal[i]['Season']=years[i]\n",
        "    except ValueError:\n",
        "      continue"
      ]
    },
    {
      "cell_type": "code",
      "execution_count": null,
      "metadata": {
        "id": "D1yr4upHnVAb"
      },
      "outputs": [],
      "source": [
        "seasonal[6]"
      ]
    },
    {
      "cell_type": "code",
      "execution_count": null,
      "metadata": {
        "id": "7Gt6DDVnhkYd"
      },
      "outputs": [],
      "source": [
        "seasonal[0].to_csv(\"test.csv\")"
      ]
    },
    {
      "cell_type": "code",
      "execution_count": null,
      "metadata": {
        "id": "Zk9IWKi6i-PI"
      },
      "outputs": [],
      "source": [
        "df = pd.concat(seasonal)\n",
        "df"
      ]
    },
    {
      "cell_type": "code",
      "execution_count": null,
      "metadata": {
        "id": "ihVVZnrVFajR"
      },
      "outputs": [],
      "source": [
        "df.to_csv(\"FBREF Data.csv\")"
      ]
    },
    {
      "cell_type": "markdown",
      "metadata": {
        "id": "9Ru1egMRfOzy"
      },
      "source": []
    },
    {
      "cell_type": "markdown",
      "metadata": {
        "id": "1TG6kakMfQmz"
      },
      "source": [
        "## Scraping Goalkeepers"
      ]
    },
    {
      "cell_type": "code",
      "execution_count": null,
      "metadata": {
        "id": "2XgwwyUZfT0v"
      },
      "outputs": [],
      "source": [
        "from bs4 import BeautifulSoup\n",
        "import requests\n",
        "\n",
        "# Pulling desired links using BeautifulSoup\n",
        "\n",
        "data = requests.get(url)\n",
        "soup = BeautifulSoup(data.text)\n",
        "\n",
        "cat_section = soup.select(\"div.section_content\")\n",
        "links = [l.get(\"href\") for l in cat_section[0].find_all('a')]\n",
        "links = [l for l in links if '/players/' in l and '/keepers' in l]\n",
        "cat_urls = [f\"https://fbref.com{l}\" for l in links]"
      ]
    },
    {
      "cell_type": "code",
      "execution_count": null,
      "metadata": {
        "id": "K0qkYSgWgYCM"
      },
      "outputs": [],
      "source": [
        "cat_urls"
      ]
    },
    {
      "cell_type": "code",
      "execution_count": null,
      "metadata": {
        "id": "J8dsywStfT0v"
      },
      "outputs": [],
      "source": [
        "import pandas as pd\n",
        "import time\n",
        "from functools import reduce\n",
        "from bs4 import BeautifulSoup\n",
        "import requests\n",
        "# tables will contain stats for each category in a season\n",
        "tables = []\n",
        "\n",
        "# will contains merged tables for each season\n",
        "seasonal_goalkeepers = []\n",
        "\n",
        "for year in years:\n",
        "\n",
        "  # Pulling desired links using BeautifulSoup\n",
        "\n",
        "  data = requests.get(url)\n",
        "  soup = BeautifulSoup(data.text)\n",
        "\n",
        "  cat_section = soup.select(\"div.section_content\")\n",
        "  links = [l.get(\"href\") for l in cat_section[0].find_all('a')]\n",
        "  links = [l for l in links if '/players/' in l and '/keepers' in l]\n",
        "  cat_urls = [f\"https://fbref.com{l}\" for l in links]\n",
        "\n",
        "  for i in cat_urls:\n",
        "    stat = pd.read_html(i)[0]\n",
        "    tables.append(stat)\n",
        "    time.sleep(1)\n",
        "\n",
        "  for t in tables:\n",
        "    # creating a data with the same headers but without multi indexing\n",
        "    t.columns = [' '.join(col).strip() for col in t.columns]\n",
        "    t = t.reset_index(drop=True)\n",
        "\n",
        "  for t in tables:\n",
        "    # creating a list with new names\n",
        "    new_columns = []\n",
        "    for col in t.columns:\n",
        "      if 'level_0' in col:\n",
        "        new_col = col.split()[-1]  # takes the last name\n",
        "      else:\n",
        "        new_col = col\n",
        "      new_columns.append(new_col)\n",
        "\n",
        "    # rename columns\n",
        "    t.columns = new_columns\n",
        "\n",
        "  for i in tables:\n",
        "    i['Age'] = i['Age'].str[:2]\n",
        "    i['Nation'] = i['Nation'].str.split(' ').str.get(1)\n",
        "    i['Comp'] = i['Comp'].str.split(' ').str[1:].str.join(' ')\n",
        "    i.drop(['Rk', 'Matches', 'Age', 'Born'], axis = 1, inplace = True)\n",
        "    i.drop_duplicates(keep=False, inplace = True)\n",
        "    i = i.fillna(0, inplace=True)\n",
        "\n",
        "  # merging all dataframes in table and appending it into a new table, seasonal.\n",
        "  seasonal_goalkeepers.append(reduce(lambda left, right:\n",
        "              pd.merge(left, right, on = ['90s', 'Pos', 'Squad', 'Player', 'Nation', 'Comp']),\n",
        "              tables))\n",
        "  #resetting for next batch of tables\n",
        "  tables = []\n",
        "\n",
        "  #getting url for previous season\n",
        "  previous_season = soup.select(\"a.prev\")[0].get(\"href\")\n",
        "  url = f\"https://fbref.com{previous_season}\""
      ]
    },
    {
      "cell_type": "code",
      "execution_count": null,
      "metadata": {
        "id": "RirnZXpnfT0w"
      },
      "outputs": [],
      "source": [
        "x = list(range(0,7,+1))\n",
        "\n",
        "for i in x:\n",
        "  try:\n",
        "    seasonal_goalkeepers[i]['Season']=years[i]\n",
        "  except ValueError:\n",
        "    continue"
      ]
    },
    {
      "cell_type": "code",
      "execution_count": null,
      "metadata": {
        "id": "jGGAMOTffT0w"
      },
      "outputs": [],
      "source": [
        "seasonal_goalkeepers[0]"
      ]
    },
    {
      "cell_type": "code",
      "execution_count": null,
      "metadata": {
        "id": "jwYQF65ghEH8"
      },
      "outputs": [],
      "source": [
        "dfGK = pd.concat(seasonal_goalkeepers)\n",
        "dfGK"
      ]
    },
    {
      "cell_type": "code",
      "execution_count": null,
      "metadata": {
        "id": "jbfCBS-FhM4v"
      },
      "outputs": [],
      "source": [
        "dfGK.to_csv(\"Goalkeeper Data.csv\")"
      ]
    },
    {
      "cell_type": "code",
      "source": [],
      "metadata": {
        "id": "lZpXMlq8vO2u"
      },
      "execution_count": null,
      "outputs": []
    }
  ],
  "metadata": {
    "colab": {
      "provenance": []
    },
    "kernelspec": {
      "display_name": "Python 3",
      "name": "python3"
    },
    "language_info": {
      "name": "python"
    }
  },
  "nbformat": 4,
  "nbformat_minor": 0
}